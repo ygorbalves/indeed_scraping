{
 "cells": [
  {
   "attachments": {},
   "cell_type": "markdown",
   "metadata": {},
   "source": [
    "# Data jobs Salary"
   ]
  },
  {
   "attachments": {},
   "cell_type": "markdown",
   "metadata": {},
   "source": [
    "## Organization\n",
    "- In this phase need to view the data avaliable and think in the problem or think in the problem and get the data. \n",
    "- Data science: carrers, resumes, types of positions. Salary. Job title, companing, open jobs, Experience level.\n",
    "- Glassdoor, LinkedIn, Indeed. \n",
    "- Data scientist, Data analyst, Data engineer."
   ]
  },
  {
   "cell_type": "code",
   "execution_count": null,
   "metadata": {},
   "outputs": [],
   "source": [
    "from selenium import webdriver\n",
    "from selenium.webdriver.chrome.options import Options\n",
    "from bs4 import BeautifulSoup\n",
    "import time \n",
    "import pandas as pd\n",
    "def scrape_job_listings(title, num_pages):\n",
    "    # chrome_options = Options()\n",
    "    # chrome_options.add_argument('--headless')\n",
    "    #driver = webdriver.Chrome(options=chrome_options)\n",
    "    driver = webdriver.Chrome()\n",
    "    jobs = []    \n",
    "    for page in range(88,num_pages):\n",
    "        url = f\"https://www.indeed.com/jobs?q={title}&fromage=14&start={page}0\"\n",
    "        print(url)\n",
    "        driver.get(url)\n",
    "        time.sleep(6)\n",
    "        html = driver.page_source\n",
    "        soup = BeautifulSoup(html, 'html.parser')\n",
    "        job_listings = soup.select('div[class*=\"cardOutline\"]')        \n",
    "        if not job_listings:\n",
    "            print(\"No more job listings found.\")\n",
    "            break        \n",
    "        for job_elem in job_listings:\n",
    "            job_title = job_elem.find('a').span.text if job_elem.find('a').span.text else ''\n",
    "            company = job_elem.find('span',class_= \"companyName\").text if job_elem.find('span',class_= \"companyName\") else ''\n",
    "            rating = job_elem.find('span',class_= \"ratingNumber\").text if job_elem.find('span',class_= \"ratingNumber\") else ''\n",
    "            date = job_elem.find('span',class_= \"date\").text if job_elem.find('span',class_= \"date\") else ''\n",
    "            location = job_elem.find('div',class_= \"companyLocation\").text if job_elem.find('div',class_= \"companyLocation\") else ''\n",
    "            job_url = \"https://br.indeed.com\" + job_elem.find('a')['href']\n",
    "            driver.get(job_url)  # navigate to job page\n",
    "            time.sleep(4)\n",
    "            job_html = driver.page_source\n",
    "            job_soup = BeautifulSoup(job_html, 'html.parser')\n",
    "            job_descript = job_soup.find('div', class_='jobsearch-jobDescriptionText').text.replace('\\n','') if job_soup.find('div', class_='jobsearch-jobDescriptionText') else ''\n",
    "            jobs.append({\n",
    "                'title': job_title,\n",
    "                'company': company,\n",
    "                'rating':rating,\n",
    "                'date':date,\n",
    "                'location': location,\n",
    "                'description': job_descript,\n",
    "                })        \n",
    "    driver.quit()\n",
    "    return pd.DataFrame(jobs)"
   ]
  },
  {
   "cell_type": "code",
   "execution_count": null,
   "metadata": {},
   "outputs": [],
   "source": [
    "df_indeed = scrape_job_listings(\"data+scientist\", 132)"
   ]
  },
  {
   "cell_type": "code",
   "execution_count": null,
   "metadata": {},
   "outputs": [],
   "source": [
    "ds_jobs_indeed = pd.concat([df_indeed_1_44,df_indeed_45_88, df_indeed_89_132], ignore_index=True)"
   ]
  },
  {
   "cell_type": "code",
   "execution_count": null,
   "metadata": {},
   "outputs": [],
   "source": [
    "df_indeed"
   ]
  }
 ],
 "metadata": {
  "kernelspec": {
   "display_name": "base",
   "language": "python",
   "name": "python3"
  },
  "language_info": {
   "codemirror_mode": {
    "name": "ipython",
    "version": 3
   },
   "file_extension": ".py",
   "mimetype": "text/x-python",
   "name": "python",
   "nbconvert_exporter": "python",
   "pygments_lexer": "ipython3",
   "version": "3.9.13"
  },
  "orig_nbformat": 4
 },
 "nbformat": 4,
 "nbformat_minor": 2
}
